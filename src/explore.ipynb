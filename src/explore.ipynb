{
    "cells": [
        {
            "cell_type": "markdown",
            "metadata": {},
            "source": [
                "# PRUEBAS Y ERRORES"
            ]
        },
        {
            "cell_type": "code",
            "execution_count": 12,
            "metadata": {},
            "outputs": [
                {
                    "name": "stdout",
                    "output_type": "stream",
                    "text": [
                        "Defaulting to user installation because normal site-packages is not writeable\n",
                        "Requirement already satisfied: spotipy in /home/vscode/.local/lib/python3.11/site-packages (2.23.0)\n",
                        "Requirement already satisfied: redis>=3.5.3 in /home/vscode/.local/lib/python3.11/site-packages (from spotipy) (6.2.0)\n",
                        "Requirement already satisfied: requests>=2.25.0 in /home/vscode/.local/lib/python3.11/site-packages (from spotipy) (2.27.1)\n",
                        "Requirement already satisfied: six>=1.15.0 in /home/vscode/.local/lib/python3.11/site-packages (from spotipy) (1.17.0)\n",
                        "Requirement already satisfied: urllib3>=1.26.0 in /home/vscode/.local/lib/python3.11/site-packages (from spotipy) (1.26.20)\n",
                        "Requirement already satisfied: certifi>=2017.4.17 in /home/vscode/.local/lib/python3.11/site-packages (from requests>=2.25.0->spotipy) (2025.6.15)\n",
                        "Requirement already satisfied: charset-normalizer~=2.0.0 in /home/vscode/.local/lib/python3.11/site-packages (from requests>=2.25.0->spotipy) (2.0.12)\n",
                        "Requirement already satisfied: idna<4,>=2.5 in /home/vscode/.local/lib/python3.11/site-packages (from requests>=2.25.0->spotipy) (3.10)\n",
                        "\n",
                        "\u001b[1m[\u001b[0m\u001b[34;49mnotice\u001b[0m\u001b[1;39;49m]\u001b[0m\u001b[39;49m A new release of pip is available: \u001b[0m\u001b[31;49m23.1.2\u001b[0m\u001b[39;49m -> \u001b[0m\u001b[32;49m25.1.1\u001b[0m\n",
                        "\u001b[1m[\u001b[0m\u001b[34;49mnotice\u001b[0m\u001b[1;39;49m]\u001b[0m\u001b[39;49m To update, run: \u001b[0m\u001b[32;49mpip install --upgrade pip\u001b[0m\n"
                    ]
                }
            ],
            "source": [
                "#Instalamos la librería de Spotify para Pyhton llamdada \"Spotipy\"\n",
                "! pip install spotipy"
            ]
        },
        {
            "cell_type": "code",
            "execution_count": 13,
            "metadata": {},
            "outputs": [],
            "source": [
                "import os\n",
                "import pandas as pd\n",
                "import matplotlib.pyplot as plt\n",
                "import seaborn as sns\n",
                "from dotenv import load_dotenv\n",
                "import spotipy as sp\n",
                "from spotipy.oauth2 import SpotifyClientCredentials"
            ]
        },
        {
            "cell_type": "code",
            "execution_count": 14,
            "metadata": {},
            "outputs": [],
            "source": [
                "# load the .env file variables\n",
                "load_dotenv()\n",
                "#Obtener las credenciales (usuario y contraseña)\n",
                "id_cliente = os.environ.get(\"CLIENT_ID\")\n",
                "codigo_cliente = os.environ.get(\"CLIENT_SECRET\")\n",
                "autenticacion = SpotifyClientCredentials(client_id = id_cliente, client_secret = codigo_cliente)\n",
                "spotify = sp.Spotify(auth_manager = autenticacion)"
            ]
        },
        {
            "cell_type": "code",
            "execution_count": 17,
            "metadata": {},
            "outputs": [
                {
                    "name": "stdout",
                    "output_type": "stream",
                    "text": [
                        "Top 10 canciones más escuchadas en Spotify de Emilia:\n"
                    ]
                },
                {
                    "ename": "AttributeError",
                    "evalue": "module 'spotipy' has no attribute 'artist_top_tracks'",
                    "output_type": "error",
                    "traceback": [
                        "\u001b[31m---------------------------------------------------------------------------\u001b[39m",
                        "\u001b[31mAttributeError\u001b[39m                            Traceback (most recent call last)",
                        "\u001b[36mCell\u001b[39m\u001b[36m \u001b[39m\u001b[32mIn[17]\u001b[39m\u001b[32m, line 6\u001b[39m\n\u001b[32m      4\u001b[39m id_artista = \u001b[33m\"\u001b[39m\u001b[33m0AqlFI0tz2DsEoJlKSIiT9\u001b[39m\u001b[33m\"\u001b[39m\n\u001b[32m      5\u001b[39m \u001b[38;5;28mprint\u001b[39m(\u001b[33mf\u001b[39m\u001b[33m\"\u001b[39m\u001b[33mTop 10 canciones más escuchadas en Spotify de \u001b[39m\u001b[38;5;132;01m{\u001b[39;00mnombre_artista\u001b[38;5;132;01m}\u001b[39;00m\u001b[33m:\u001b[39m\u001b[33m\"\u001b[39m)\n\u001b[32m----> \u001b[39m\u001b[32m6\u001b[39m top_tracks = \u001b[43msp\u001b[49m\u001b[43m.\u001b[49m\u001b[43martist_top_tracks\u001b[49m(id_artista, country = \u001b[33m\"\u001b[39m\u001b[33mUS\u001b[39m\u001b[33m\"\u001b[39m)\n\u001b[32m      7\u001b[39m \u001b[38;5;28;01mfor\u001b[39;00m i, track \u001b[38;5;129;01min\u001b[39;00m \u001b[38;5;28menumerate\u001b[39m(top_tracks[\u001b[33m\"\u001b[39m\u001b[33mtracks\u001b[39m\u001b[33m\"\u001b[39m][:\u001b[32m10\u001b[39m]):\n\u001b[32m      8\u001b[39m     nombre = track[\u001b[33m\"\u001b[39m\u001b[33mname\u001b[39m\u001b[33m\"\u001b[39m]\n",
                        "\u001b[31mAttributeError\u001b[39m: module 'spotipy' has no attribute 'artist_top_tracks'"
                    ]
                }
            ],
            "source": [
                "#Conseguir el top 10 de canciones más escuchadas en Spotify de mi artista favorito.\n",
                "nombre_artista = \"Emilia\"\n",
                "#Se ve en spotify en los ultimos números del url (https://open.spotify.com/intl-es/artist/0AqlFI0tz2DsEoJlKSIiT9)\n",
                "id_artista = \"0AqlFI0tz2DsEoJlKSIiT9\"\n",
                "print(f\"Top 10 canciones más escuchadas en Spotify de {nombre_artista}:\")\n",
                "top_tracks = sp.artist_top_tracks(id_artista, country = \"US\")\n",
                "for i, track in enumerate(top_tracks[\"tracks\"][:10]):\n",
                "    nombre = track[\"name\"]\n",
                "    popularidad = track[\"popularity\"]\n",
                "    print(f\"{i+1}.{nombre_artista}(Popularidad:{popularidad})\")"
            ]
        },
        {
            "cell_type": "code",
            "execution_count": null,
            "metadata": {},
            "outputs": [
                {
                    "ename": "NameError",
                    "evalue": "name 'xxxxx' is not defined",
                    "output_type": "error",
                    "traceback": [
                        "\u001b[31m---------------------------------------------------------------------------\u001b[39m",
                        "\u001b[31mNameError\u001b[39m                                 Traceback (most recent call last)",
                        "\u001b[36mCell\u001b[39m\u001b[36m \u001b[39m\u001b[32mIn[51]\u001b[39m\u001b[32m, line 2\u001b[39m\n\u001b[32m      1\u001b[39m \u001b[38;5;66;03m#Convertir en dataframe el resultado obtenido\u001b[39;00m\n\u001b[32m----> \u001b[39m\u001b[32m2\u001b[39m emilia_df = pd.DataFrame(\u001b[43mxxxxx\u001b[49m)\n\u001b[32m      3\u001b[39m \u001b[38;5;28mprint\u001b[39m (emilia_df.head(\u001b[32m7\u001b[39m))\n",
                        "\u001b[31mNameError\u001b[39m: name 'xxxxx' is not defined"
                    ]
                }
            ],
            "source": [
                "#Convertir en dataframe el resultado obtenido\n",
                "emilia_df = pd.DataFrame(xxxxx)\n",
                "print (emilia_df.head(7))"
            ]
        },
        {
            "cell_type": "code",
            "execution_count": null,
            "metadata": {},
            "outputs": [
                {
                    "ename": "SyntaxError",
                    "evalue": "invalid syntax. Perhaps you forgot a comma? (2638635143.py, line 2)",
                    "output_type": "error",
                    "traceback": [
                        "  \u001b[36mCell\u001b[39m\u001b[36m \u001b[39m\u001b[32mIn[52]\u001b[39m\u001b[32m, line 2\u001b[39m\n\u001b[31m    \u001b[39m\u001b[31mplt.scatter(df[],xxxx)\u001b[39m\n                ^\n\u001b[31mSyntaxError\u001b[39m\u001b[31m:\u001b[39m invalid syntax. Perhaps you forgot a comma?\n"
                    ]
                }
            ],
            "source": [
                "#Analizar relación estadística\n",
                "plt.scatter(df[],xxxx)\n",
                "plt.title(\"Relación entre xxxx y xxxx\")\n",
                "plt.xlabel()\n",
                "plt.ylabel()\n",
                "plt.show()"
            ]
        }
    ],
    "metadata": {
        "kernelspec": {
            "display_name": "Python 3",
            "language": "python",
            "name": "python3"
        },
        "language_info": {
            "codemirror_mode": {
                "name": "ipython",
                "version": 3
            },
            "file_extension": ".py",
            "mimetype": "text/x-python",
            "name": "python",
            "nbconvert_exporter": "python",
            "pygments_lexer": "ipython3",
            "version": "3.11.4"
        },
        "orig_nbformat": 4
    },
    "nbformat": 4,
    "nbformat_minor": 2
}
